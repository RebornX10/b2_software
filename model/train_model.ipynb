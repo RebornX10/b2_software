{
 "cells": [
  {
   "cell_type": "code",
   "execution_count": 9,
   "metadata": {},
   "outputs": [
    {
     "name": "stdout",
     "output_type": "stream",
     "text": [
      "Found 1500 images belonging to 3 classes.\n",
      "Found 900 images belonging to 3 classes.\n"
     ]
    }
   ],
   "source": [
    "from tensorflow.keras.preprocessing.image import ImageDataGenerator\n",
    "from tensorflow import keras\n",
    "import tensorflow as tf\n",
    "\n",
    "batch_size = 64\n",
    "train_datagen = ImageDataGenerator(rescale = 1/255.0)\n",
    "\n",
    "val_datagen = ImageDataGenerator(rescale = 1/255.0)\n",
    "\n",
    "train_gen =  train_datagen.flow_from_directory(\"data/train\",\n",
    "                                               target_size = (50,50),\n",
    "                                               color_mode = \"grayscale\",\n",
    "                                               class_mode = \"categorical\",\n",
    "                                               batch_size = 64)\n",
    "val_gen = val_datagen.flow_from_directory(\"data/validation\",\n",
    "                                          target_size = (50,50),\n",
    "                                          color_mode = \"grayscale\",\n",
    "                                          class_mode = \"categorical\",\n",
    "                                          batch_size = 64)\n"
   ]
  },
  {
   "cell_type": "code",
   "execution_count": 10,
   "metadata": {},
   "outputs": [],
   "source": [
    "model = keras.models.Sequential()\n",
    "model.add(keras.layers.Conv2D(32,(3,3), padding=\"same\", activation=\"relu\", input_shape=(50,50,1)))\n",
    "model.add(keras.layers.MaxPooling2D(pool_size=(2,2)))\n",
    "model.add(keras.layers.Dropout(0.2))\n",
    "\n",
    "model.add(keras.layers.Conv2D(64,(3,3), padding=\"same\", activation=\"relu\"))\n",
    "model.add(keras.layers.MaxPooling2D(pool_size=(2,2)))\n",
    "model.add(keras.layers.Dropout(0.2))\n",
    "\n",
    "model.add(keras.layers.Conv2D(64,(3,3), padding=\"same\", activation=\"relu\"))\n",
    "model.add(keras.layers.MaxPooling2D(pool_size=(2,2)))\n",
    "model.add(keras.layers.Dropout(0.2))\n",
    "\n",
    "model.add(keras.layers.Flatten())\n",
    "model.add(keras.layers.Dense(64, activation=\"relu\"))\n",
    "model.add(keras.layers.Dropout(0.2))\n",
    "model.add(keras.layers.Dense(3, activation=\"softmax\"))\n",
    "\n",
    "model.compile(optimizer=\"adam\", loss=\"categorical_crossentropy\",\n",
    "              metrics=[\"accuracy\"])\n"
   ]
  },
  {
   "cell_type": "code",
   "execution_count": 11,
   "metadata": {},
   "outputs": [
    {
     "name": "stdout",
     "output_type": "stream",
     "text": [
      "done\n"
     ]
    }
   ],
   "source": [
    "print(\"done\")"
   ]
  },
  {
   "cell_type": "code",
   "execution_count": 12,
   "metadata": {
    "scrolled": true
   },
   "outputs": [
    {
     "name": "stdout",
     "output_type": "stream",
     "text": [
      "Epoch 1/50\n",
      "23/23 [==============================] - 5s 234ms/step - loss: 1.1085 - accuracy: 0.3496 - val_loss: 1.0986 - val_accuracy: 0.3326\n",
      "Epoch 2/50\n",
      "23/23 [==============================] - 5s 225ms/step - loss: 1.0961 - accuracy: 0.3767 - val_loss: 1.0975 - val_accuracy: 0.3326\n",
      "Epoch 3/50\n",
      "23/23 [==============================] - 5s 226ms/step - loss: 1.0819 - accuracy: 0.4178 - val_loss: 1.0861 - val_accuracy: 0.4085\n",
      "Epoch 4/50\n",
      "23/23 [==============================] - 5s 227ms/step - loss: 1.0031 - accuracy: 0.4993 - val_loss: 1.0511 - val_accuracy: 0.3661\n",
      "Epoch 5/50\n",
      "23/23 [==============================] - 5s 237ms/step - loss: 0.8402 - accuracy: 0.5919 - val_loss: 0.9068 - val_accuracy: 0.5089\n",
      "Epoch 6/50\n",
      "23/23 [==============================] - 5s 232ms/step - loss: 0.7291 - accuracy: 0.6504 - val_loss: 0.7774 - val_accuracy: 0.5882\n",
      "Epoch 7/50\n",
      "23/23 [==============================] - 5s 234ms/step - loss: 0.6132 - accuracy: 0.7221 - val_loss: 0.6870 - val_accuracy: 0.7634\n",
      "Epoch 8/50\n",
      "23/23 [==============================] - 5s 239ms/step - loss: 0.4992 - accuracy: 0.8036 - val_loss: 0.5876 - val_accuracy: 0.8605\n",
      "Epoch 9/50\n",
      "23/23 [==============================] - 5s 227ms/step - loss: 0.4424 - accuracy: 0.8155 - val_loss: 0.4756 - val_accuracy: 0.8683\n",
      "Epoch 10/50\n",
      "23/23 [==============================] - 5s 236ms/step - loss: 0.3421 - accuracy: 0.8705 - val_loss: 0.4059 - val_accuracy: 0.8750\n",
      "Epoch 11/50\n",
      "23/23 [==============================] - 5s 227ms/step - loss: 0.2857 - accuracy: 0.8990 - val_loss: 0.4283 - val_accuracy: 0.8772\n",
      "Epoch 12/50\n",
      "23/23 [==============================] - 6s 240ms/step - loss: 0.2229 - accuracy: 0.9136 - val_loss: 0.3299 - val_accuracy: 0.8973\n",
      "Epoch 13/50\n",
      "23/23 [==============================] - 5s 234ms/step - loss: 0.1843 - accuracy: 0.9394 - val_loss: 0.2770 - val_accuracy: 0.9297\n",
      "Epoch 14/50\n",
      "23/23 [==============================] - 5s 227ms/step - loss: 0.1415 - accuracy: 0.9547 - val_loss: 0.2437 - val_accuracy: 0.9330\n",
      "Epoch 15/50\n",
      "23/23 [==============================] - 6s 240ms/step - loss: 0.1014 - accuracy: 0.9673 - val_loss: 0.2049 - val_accuracy: 0.9487\n",
      "Epoch 16/50\n",
      "23/23 [==============================] - 6s 264ms/step - loss: 0.0777 - accuracy: 0.9770 - val_loss: 0.1668 - val_accuracy: 0.9598\n",
      "Epoch 17/50\n",
      "23/23 [==============================] - 6s 245ms/step - loss: 0.0673 - accuracy: 0.9812 - val_loss: 0.1526 - val_accuracy: 0.9587\n",
      "Epoch 18/50\n",
      "23/23 [==============================] - 6s 257ms/step - loss: 0.0653 - accuracy: 0.9756 - val_loss: 0.1387 - val_accuracy: 0.9632\n",
      "Epoch 19/50\n",
      "23/23 [==============================] - 6s 263ms/step - loss: 0.0759 - accuracy: 0.9763 - val_loss: 0.1986 - val_accuracy: 0.9542\n",
      "Epoch 20/50\n",
      "23/23 [==============================] - 5s 234ms/step - loss: 0.0628 - accuracy: 0.9756 - val_loss: 0.1266 - val_accuracy: 0.9609\n",
      "Epoch 21/50\n",
      "23/23 [==============================] - 6s 241ms/step - loss: 0.0351 - accuracy: 0.9930 - val_loss: 0.1248 - val_accuracy: 0.9654\n",
      "Epoch 22/50\n",
      "23/23 [==============================] - 5s 238ms/step - loss: 0.0293 - accuracy: 0.9903 - val_loss: 0.0872 - val_accuracy: 0.9754\n",
      "Epoch 23/50\n",
      "23/23 [==============================] - 6s 254ms/step - loss: 0.0264 - accuracy: 0.9905 - val_loss: 0.1227 - val_accuracy: 0.9699\n",
      "Epoch 24/50\n",
      "23/23 [==============================] - 6s 248ms/step - loss: 0.0176 - accuracy: 0.9972 - val_loss: 0.1319 - val_accuracy: 0.9632\n",
      "Epoch 25/50\n",
      "23/23 [==============================] - 5s 228ms/step - loss: 0.0125 - accuracy: 0.9979 - val_loss: 0.1205 - val_accuracy: 0.9688\n",
      "Epoch 26/50\n",
      "23/23 [==============================] - 5s 238ms/step - loss: 0.0141 - accuracy: 0.9965 - val_loss: 0.1226 - val_accuracy: 0.9710\n",
      "Epoch 27/50\n",
      "23/23 [==============================] - 5s 238ms/step - loss: 0.0164 - accuracy: 0.9944 - val_loss: 0.1858 - val_accuracy: 0.9542\n",
      "Epoch 28/50\n",
      "23/23 [==============================] - 5s 236ms/step - loss: 0.0162 - accuracy: 0.9965 - val_loss: 0.1751 - val_accuracy: 0.9576\n",
      "Epoch 29/50\n",
      "23/23 [==============================] - 5s 230ms/step - loss: 0.0133 - accuracy: 0.9972 - val_loss: 0.1258 - val_accuracy: 0.9699\n",
      "Epoch 30/50\n",
      "23/23 [==============================] - 5s 226ms/step - loss: 0.0226 - accuracy: 0.9944 - val_loss: 0.1377 - val_accuracy: 0.9609\n",
      "Epoch 31/50\n",
      "23/23 [==============================] - 5s 229ms/step - loss: 0.0173 - accuracy: 0.9944 - val_loss: 0.1645 - val_accuracy: 0.9565\n",
      "Epoch 32/50\n",
      "23/23 [==============================] - 5s 227ms/step - loss: 0.0106 - accuracy: 0.9986 - val_loss: 0.1040 - val_accuracy: 0.9721\n",
      "Epoch 33/50\n",
      "23/23 [==============================] - 5s 227ms/step - loss: 0.0080 - accuracy: 0.9986 - val_loss: 0.0727 - val_accuracy: 0.9855\n",
      "Epoch 34/50\n",
      "23/23 [==============================] - 5s 227ms/step - loss: 0.0104 - accuracy: 0.9972 - val_loss: 0.0899 - val_accuracy: 0.9754\n",
      "Epoch 35/50\n",
      "23/23 [==============================] - 6s 240ms/step - loss: 0.0108 - accuracy: 0.9965 - val_loss: 0.0749 - val_accuracy: 0.9844\n",
      "Epoch 36/50\n",
      "23/23 [==============================] - 6s 250ms/step - loss: 0.0073 - accuracy: 0.9986 - val_loss: 0.0864 - val_accuracy: 0.9766\n",
      "Epoch 37/50\n",
      "23/23 [==============================] - 6s 240ms/step - loss: 0.0090 - accuracy: 0.9958 - val_loss: 0.1038 - val_accuracy: 0.9721\n",
      "Epoch 38/50\n",
      "23/23 [==============================] - 5s 235ms/step - loss: 0.0063 - accuracy: 0.9986 - val_loss: 0.1004 - val_accuracy: 0.9743\n",
      "Epoch 39/50\n",
      "23/23 [==============================] - 5s 237ms/step - loss: 0.0057 - accuracy: 0.9986 - val_loss: 0.1363 - val_accuracy: 0.9654\n",
      "Epoch 40/50\n",
      "23/23 [==============================] - 5s 230ms/step - loss: 0.0060 - accuracy: 0.9986 - val_loss: 0.1469 - val_accuracy: 0.9654\n",
      "Epoch 41/50\n",
      "23/23 [==============================] - 5s 230ms/step - loss: 0.0068 - accuracy: 0.9986 - val_loss: 0.1216 - val_accuracy: 0.9699\n",
      "Epoch 42/50\n",
      "23/23 [==============================] - 5s 231ms/step - loss: 0.0094 - accuracy: 0.9972 - val_loss: 0.1469 - val_accuracy: 0.9632\n",
      "Epoch 43/50\n",
      "23/23 [==============================] - 5s 239ms/step - loss: 0.0196 - accuracy: 0.9965 - val_loss: 0.1360 - val_accuracy: 0.9743\n",
      "Epoch 44/50\n",
      "23/23 [==============================] - 5s 229ms/step - loss: 0.0070 - accuracy: 0.9986 - val_loss: 0.1251 - val_accuracy: 0.9676\n",
      "Epoch 45/50\n",
      "23/23 [==============================] - 5s 228ms/step - loss: 0.0107 - accuracy: 0.9958 - val_loss: 0.1371 - val_accuracy: 0.9654\n",
      "Epoch 46/50\n",
      "23/23 [==============================] - 5s 235ms/step - loss: 0.0035 - accuracy: 1.0000 - val_loss: 0.1178 - val_accuracy: 0.9732\n",
      "Epoch 47/50\n",
      "23/23 [==============================] - 5s 235ms/step - loss: 0.0061 - accuracy: 0.9986 - val_loss: 0.1735 - val_accuracy: 0.9632\n",
      "Epoch 48/50\n",
      "23/23 [==============================] - 5s 237ms/step - loss: 0.0048 - accuracy: 0.9993 - val_loss: 0.1251 - val_accuracy: 0.9710\n",
      "Epoch 49/50\n",
      "23/23 [==============================] - 5s 235ms/step - loss: 0.0051 - accuracy: 0.9986 - val_loss: 0.1209 - val_accuracy: 0.9665\n",
      "Epoch 50/50\n",
      "23/23 [==============================] - 5s 231ms/step - loss: 0.0044 - accuracy: 0.9979 - val_loss: 0.1727 - val_accuracy: 0.9565\n"
     ]
    },
    {
     "data": {
      "text/plain": [
       "<tensorflow.python.keras.callbacks.History at 0x20cf3b9bac0>"
      ]
     },
     "execution_count": 12,
     "metadata": {},
     "output_type": "execute_result"
    }
   ],
   "source": [
    "model.fit_generator(train_gen,\n",
    "                   epochs=50,\n",
    "                   steps_per_epoch=train_gen.n//train_gen.batch_size,\n",
    "                   validation_data= val_gen,\n",
    "                   validation_steps=val_gen.n//val_gen.batch_size)"
   ]
  },
  {
   "cell_type": "code",
   "execution_count": 13,
   "metadata": {},
   "outputs": [
    {
     "name": "stdout",
     "output_type": "stream",
     "text": [
      "model saved\n"
     ]
    }
   ],
   "source": [
    "model_json = model.to_json()\n",
    "\n",
    "with open(\"model/model.json\",\"w\") as model_json_file:\n",
    "    model_json_file.write(model_json)\n",
    "    \n",
    "model.save_weights(\"model/model_weights.h5\")\n",
    "print(\"model saved\")"
   ]
  },
  {
   "cell_type": "code",
   "execution_count": null,
   "metadata": {},
   "outputs": [],
   "source": []
  }
 ],
 "metadata": {
  "kernelspec": {
   "display_name": "Python 3",
   "language": "python",
   "name": "python3"
  },
  "language_info": {
   "codemirror_mode": {
    "name": "ipython",
    "version": 3
   },
   "file_extension": ".py",
   "mimetype": "text/x-python",
   "name": "python",
   "nbconvert_exporter": "python",
   "pygments_lexer": "ipython3",
   "version": "3.8.6"
  }
 },
 "nbformat": 4,
 "nbformat_minor": 4
}
