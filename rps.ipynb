{
 "cells": [
  {
   "cell_type": "markdown",
   "metadata": {},
   "source": [
    "# <center> <font style=\"color:rgb(100,109,254)\"> Playing Rock, Paper, Scissors with AI</font> </center>\n"
   ]
  },
  {
   "cell_type": "markdown",
   "metadata": {},
   "source": [
    "##  <font style=\"color:rgb(134,19,348)\">Import Libraries </font>"
   ]
  },
  {
   "cell_type": "code",
   "execution_count": 8,
   "metadata": {},
   "outputs": [],
   "source": [
    "import os\n",
    "import cv2\n",
    "import numpy as np\n",
    "import matplotlib.pyplot as plt\n",
    "import time\n",
    "\n",
    "import tensorflow as tf\n",
    "from tensorflow.keras.preprocessing.image import ImageDataGenerator\n",
    "from tensorflow.keras.models import Model, load_model\n",
    "from tensorflow.keras.layers import Dense,MaxPool2D,Dropout,Flatten,Conv2D,GlobalAveragePooling2D,Activation\n",
    "from tensorflow.keras.optimizers import Adam\n",
    "from tensorflow.keras.utils import to_categorical\n",
    "\n",
    "from sklearn.model_selection import train_test_split\n",
    "from sklearn.preprocessing import LabelEncoder\n",
    "\n",
    "from random import choice,shuffle\n",
    "from scipy import stats as st\n",
    "\n",
    "from collections import deque"
   ]
  },
  {
   "cell_type": "markdown",
   "metadata": {},
   "source": [
    "##  <font style=\"color:rgb(134,19,348)\"> Step 1: Gather Data, for rock, paper scissor classes.</font>"
   ]
  },
  {
   "cell_type": "code",
   "execution_count": 9,
   "metadata": {},
   "outputs": [],
   "source": [
    "def gather_data(num_samples):\n",
    "    \n",
    "    global rock, paper, scissor, nothing\n",
    "    \n",
    "    # Initialize the camera\n",
    "    cap = cv2.VideoCapture(0,  cv2.CAP_DSHOW)\n",
    "\n",
    "    # trigger tells us when to start recording\n",
    "    trigger = False\n",
    "    \n",
    "    # Counter keeps count of the number of samples collected\n",
    "    counter = 0\n",
    "    \n",
    "    # This the ROI size, the size of images saved will be box_size -10\n",
    "    box_size = 234\n",
    "    \n",
    "    # Getting the width of the frame from the camera properties\n",
    "    width = int(cap.get(3))\n",
    "\n",
    "\n",
    "    while True:\n",
    "        \n",
    "        # Read frame by frame\n",
    "        ret, frame = cap.read()\n",
    "        \n",
    "        # Flip the frame laterally\n",
    "        frame = cv2.flip(frame, 1)\n",
    "        \n",
    "        # Break the loop if there is trouble  reading the frame.\n",
    "        if not ret:\n",
    "            break\n",
    "            \n",
    "        # If counter is equal to the number samples then reset triger and the counter\n",
    "        if counter == num_samples:\n",
    "            trigger = not trigger\n",
    "            counter = 0\n",
    "        \n",
    "        # Define ROI for capturing samples\n",
    "        cv2.rectangle(frame, (width - box_size, 0), (width, box_size), (0, 250, 150), 2)\n",
    "        \n",
    "        # Make a resizable window.\n",
    "        cv2.namedWindow(\"Collecting images\", cv2.WINDOW_NORMAL)\n",
    "        \n",
    "        \n",
    "        # If trigger is True than start capturing the samples\n",
    "        if trigger:\n",
    "            \n",
    "            # Grab only slected roi\n",
    "            roi = frame[5: box_size-5 , width-box_size + 5: width -5]\n",
    "            \n",
    "            # Append the roi and class name to the list with the selected class_name\n",
    "            eval(class_name).append([roi, class_name])\n",
    "                                    \n",
    "            # Increment the counter \n",
    "            counter += 1 \n",
    "        \n",
    "            # Text for the counter\n",
    "            text = \"Collected Samples of {}: {}\".format(class_name, counter)\n",
    "            \n",
    "        else:\n",
    "            text = \"Press 'r' to collect rock samples, 'p' for paper, 's' for scissor and 'n' for nothing\"\n",
    "        \n",
    "        # Show the counter on the imaege\n",
    "        cv2.putText(frame, text, (3, 350), cv2.FONT_HERSHEY_SIMPLEX, 0.45, (0, 0, 255), 1, cv2.LINE_AA)\n",
    "        \n",
    "        # Display the window\n",
    "        cv2.imshow(\"Collecting images\", frame)\n",
    "        \n",
    "        # Wait 1 ms\n",
    "        k = cv2.waitKey(1)\n",
    "        \n",
    "        # If user press 'r' than set the path for rock directoryq\n",
    "        if k == ord('r'):\n",
    "            \n",
    "            # Trigger the variable inorder to capture the samples\n",
    "            trigger = not trigger\n",
    "            class_name = 'rock'\n",
    "            rock = []\n",
    "           \n",
    "            \n",
    "        # If user press 'p' then class_name is set to paper and trigger set to True  \n",
    "        if k == ord('p'):\n",
    "            trigger = not trigger\n",
    "            class_name = 'paper'\n",
    "            paper = []\n",
    "        \n",
    "        # If user press 's' then class_name is set to scissor and trigger set to True  \n",
    "        if k == ord('s'):\n",
    "            trigger = not trigger\n",
    "            class_name = 'scissor'\n",
    "            scissor = []\n",
    "                    \n",
    "        # If user press 's' then class_name is set to nothing and trigger set to True\n",
    "        if k == ord('n'):\n",
    "            trigger = not trigger\n",
    "            class_name = 'nothing'\n",
    "            nothing = []\n",
    "        \n",
    "        # Exit if user presses 'q'\n",
    "        if k == ord('q'):\n",
    "            break\n",
    "            \n",
    "    #  Release the camera and destroy the window\n",
    "    cap.release()\n",
    "    cv2.destroyAllWindows()"
   ]
  },
  {
   "cell_type": "markdown",
   "metadata": {},
   "source": [
    "Now run the function"
   ]
  },
  {
   "cell_type": "code",
   "execution_count": 10,
   "metadata": {},
   "outputs": [],
   "source": [
    "no_of_samples = 100\n",
    "gather_data(no_of_samples)"
   ]
  },
  {
   "cell_type": "markdown",
   "metadata": {},
   "source": [
    "##  <font style=\"color:rgb(134,19,348)\"> Step 2: (Optional) Visualize the Data:\n",
    " </font>"
   ]
  },
  {
   "cell_type": "code",
   "execution_count": 14,
   "metadata": {},
   "outputs": [
    {
     "output_type": "error",
     "ename": "NameError",
     "evalue": "name 'rock' is not defined",
     "traceback": [
      "\u001b[1;31m---------------------------------------------------------------------------\u001b[0m",
      "\u001b[1;31mNameError\u001b[0m                                 Traceback (most recent call last)",
      "\u001b[1;32m<ipython-input-14-bf7609ebc2a0>\u001b[0m in \u001b[0;36m<module>\u001b[1;34m\u001b[0m\n\u001b[0;32m      6\u001b[0m \u001b[1;33m\u001b[0m\u001b[0m\n\u001b[0;32m      7\u001b[0m \u001b[1;31m# Iterate for each class\u001b[0m\u001b[1;33m\u001b[0m\u001b[1;33m\u001b[0m\u001b[1;33m\u001b[0m\u001b[0m\n\u001b[1;32m----> 8\u001b[1;33m \u001b[1;32mfor\u001b[0m \u001b[0mclass_index\u001b[0m\u001b[1;33m,\u001b[0m \u001b[0meach_list\u001b[0m \u001b[1;32min\u001b[0m \u001b[0menumerate\u001b[0m\u001b[1;33m(\u001b[0m\u001b[1;33m[\u001b[0m\u001b[0mrock\u001b[0m\u001b[1;33m,\u001b[0m \u001b[0mpaper\u001b[0m\u001b[1;33m,\u001b[0m \u001b[0mscissor\u001b[0m\u001b[1;33m,\u001b[0m\u001b[0mnothing\u001b[0m\u001b[1;33m]\u001b[0m\u001b[1;33m)\u001b[0m\u001b[1;33m:\u001b[0m\u001b[1;33m\u001b[0m\u001b[1;33m\u001b[0m\u001b[0m\n\u001b[0m\u001b[0;32m      9\u001b[0m \u001b[1;33m\u001b[0m\u001b[0m\n\u001b[0;32m     10\u001b[0m     \u001b[1;31m# Get 8 random indexes, since we will be showing 8 examples of each class.\u001b[0m\u001b[1;33m\u001b[0m\u001b[1;33m\u001b[0m\u001b[1;33m\u001b[0m\u001b[0m\n",
      "\u001b[1;31mNameError\u001b[0m: name 'rock' is not defined"
     ]
    }
   ],
   "source": [
    "# Set the figure size\n",
    "plt.figure(figsize=[30,20])\n",
    "\n",
    "# Set the rows and columns\n",
    "rows, cols = 4, 8\n",
    "\n",
    "# Iterate for each class\n",
    "for class_index, each_list in enumerate([rock, paper, scissor,nothing]):\n",
    "    \n",
    "    # Get 8 random indexes, since we will be showing 8 examples of each class.\n",
    "    r = np.random.randint(no_of_samples, size=8);\n",
    "    \n",
    "    # Plot the examples\n",
    "    for i, example_index in enumerate(r,1):\n",
    "        plt.subplot(rows,cols,class_index*cols + i );plt.imshow(each_list[example_index][0][:,:,::-1]);plt.axis('off');   "
   ]
  },
  {
   "cell_type": "markdown",
   "metadata": {},
   "source": [
    "##  <font style=\"color:rgb(134,19,348)\"> Step 3: Preprocess Data and Split it:\n",
    " </font>"
   ]
  },
  {
   "cell_type": "code",
   "execution_count": 5,
   "metadata": {},
   "outputs": [
    {
     "name": "stdout",
     "output_type": "stream",
     "text": [
      "Total images: 400 , Total Labels: 400\n"
     ]
    }
   ],
   "source": [
    "# Combine the labels of all classes together\n",
    "labels = [tupl[1] for tupl in rock] + [tupl[1] for tupl in paper] + [tupl[1] for tupl in scissor] +[tupl[1] for tupl in nothing]\n",
    "\n",
    "# Combine the images of all classes together\n",
    "images = [tupl[0] for tupl in rock] + [tupl[0] for tupl in paper] + [tupl[0] for tupl in scissor] +[tupl[0] for tupl in nothing]\n",
    "\n",
    "# Normalize the images by dividing by 255, now our images are in range 0-1. This will help in training.\n",
    "images = np.array(images, dtype=\"float\") / 255.0\n",
    "\n",
    "# Print out the total number of labels and images.\n",
    "print('Total images: {} , Total Labels: {}'.format(len(labels), len(images)))\n",
    "\n",
    "# Create an encoder Object\n",
    "encoder = LabelEncoder()\n",
    "\n",
    "# Convert Lablels to integers. i.e. nothing = 0, paper = 1, rock = 2, scissor = 3 (mapping is done in alphabatical order)\n",
    "Int_labels = encoder.fit_transform(labels)\n",
    "\n",
    "# Now the convert the integer labels into one hot format. i.e. 0 = [1,0,0,0]  etc.\n",
    "one_hot_labels = to_categorical(Int_labels, 4)\n",
    "\n",
    "# Now we're splitting the data, 75% for training and 25% for testing.\n",
    "(trainX, testX, trainY, testY) = train_test_split(images, one_hot_labels, test_size=0.25, random_state=50)\n",
    "\n",
    "# Empty memory from RAM\n",
    "images = []\n",
    "\n",
    "\n",
    "# This can further free up memory from RAM but be careful, if you won't be able to chage split % after this.\n",
    "# rock, paper, scissor = [], [], []"
   ]
  },
  {
   "cell_type": "markdown",
   "metadata": {},
   "source": [
    "##  <font style=\"color:rgb(134,19,348)\">Step 4: Prepare Our Model for Fine Tuning:\n",
    " </font>"
   ]
  },
  {
   "cell_type": "code",
   "execution_count": 53,
   "metadata": {},
   "outputs": [
    {
     "name": "stdout",
     "output_type": "stream",
     "text": [
      "Number of Layers in Model: 773\n"
     ]
    }
   ],
   "source": [
    "# This is the input size which our model accepts.\n",
    "image_size = 224\n",
    "\n",
    "# Loading pre-trained NASNETMobile Model without the head by doing include_top = False\n",
    "N_mobile = tf.keras.applications.NASNetMobile( input_shape=(image_size, image_size, 3), include_top=False, weights='imagenet')\n",
    "\n",
    "# Freeze the whole model \n",
    "N_mobile.trainable = False\n",
    "    \n",
    "# Adding our own custom head\n",
    "# Start by taking the output feature maps from NASNETMobile\n",
    "x = N_mobile.output\n",
    "\n",
    "# Convert to a single dimensional vector by Global Average Pooling. \n",
    "# We could also use Flatten()(x) GAP is more effective reduces params and controls overfitting.\n",
    "x = GlobalAveragePooling2D()(x)\n",
    "\n",
    "# Adding a dense layer with 512 units\n",
    "x = Dense(712, activation='relu')(x) \n",
    "\n",
    "# Dropout 20% of the activations, helps reduces overfitting\n",
    "x = Dropout(0.40)(x)\n",
    "\n",
    "# The fianl layer will contain 4 output units (no of units = no of classes) with softmax function.\n",
    "preds = Dense(4,activation='softmax')(x) \n",
    "\n",
    "# Construct the full model\n",
    "model = Model(inputs=N_mobile.input, outputs=preds)\n",
    "\n",
    "# Check the number of layers in the final Model\n",
    "print (\"Number of Layers in Model: {}\".format(len(model.layers[:])))"
   ]
  },
  {
   "cell_type": "markdown",
   "metadata": {},
   "source": [
    "##  <font style=\"color:rgb(134,19,348)\"> Step 5: Train Our Model:\n",
    " </font>"
   ]
  },
  {
   "cell_type": "code",
   "execution_count": 54,
   "metadata": {},
   "outputs": [],
   "source": [
    "# Adding transformations that I know would help, you can feel free to add more.\n",
    "# I'm doing horizontal_flip = False, incase you aren't sure which hand you would be using you can make that True.\n",
    "\n",
    "augment = ImageDataGenerator( \n",
    "    \n",
    "        rotation_range=30,\n",
    "        zoom_range=0.25,\n",
    "        width_shift_range=0.10,\n",
    "        height_shift_range=0.10,\n",
    "        shear_range=0.10,\n",
    "        horizontal_flip=False,    \n",
    "        fill_mode=\"nearest\"\n",
    ")"
   ]
  },
  {
   "cell_type": "code",
   "execution_count": 55,
   "metadata": {},
   "outputs": [],
   "source": [
    "model.compile(optimizer=Adam(learning_rate=0.0001), loss='categorical_crossentropy', metrics=['accuracy'])"
   ]
  },
  {
   "cell_type": "code",
   "execution_count": 56,
   "metadata": {},
   "outputs": [
    {
     "name": "stdout",
     "output_type": "stream",
     "text": [
      "Epoch 1/15\n",
      "15/15 [==============================] - 27s 2s/step - loss: 1.0857 - accuracy: 0.5600 - val_loss: 0.6256 - val_accuracy: 0.9200\n",
      "Epoch 2/15\n",
      "15/15 [==============================] - 22s 1s/step - loss: 0.5107 - accuracy: 0.8800 - val_loss: 0.3271 - val_accuracy: 0.9400\n",
      "Epoch 3/15\n",
      "15/15 [==============================] - 23s 2s/step - loss: 0.3125 - accuracy: 0.9333 - val_loss: 0.2120 - val_accuracy: 0.9400\n",
      "Epoch 4/15\n",
      "15/15 [==============================] - 22s 1s/step - loss: 0.2304 - accuracy: 0.9467 - val_loss: 0.1527 - val_accuracy: 0.9800\n",
      "Epoch 5/15\n",
      "15/15 [==============================] - 23s 2s/step - loss: 0.1893 - accuracy: 0.9533 - val_loss: 0.1240 - val_accuracy: 0.9800\n",
      "Epoch 6/15\n",
      "15/15 [==============================] - 22s 1s/step - loss: 0.1311 - accuracy: 0.9833 - val_loss: 0.1004 - val_accuracy: 1.0000\n",
      "Epoch 7/15\n",
      "15/15 [==============================] - 22s 1s/step - loss: 0.1168 - accuracy: 0.9833 - val_loss: 0.0849 - val_accuracy: 1.0000\n",
      "Epoch 8/15\n",
      "15/15 [==============================] - 23s 2s/step - loss: 0.1047 - accuracy: 0.9867 - val_loss: 0.0685 - val_accuracy: 1.0000\n",
      "Epoch 9/15\n",
      "15/15 [==============================] - 26s 2s/step - loss: 0.0888 - accuracy: 0.9933 - val_loss: 0.0608 - val_accuracy: 1.0000\n",
      "Epoch 10/15\n",
      "15/15 [==============================] - 23s 2s/step - loss: 0.0742 - accuracy: 0.9933 - val_loss: 0.0520 - val_accuracy: 1.0000\n",
      "Epoch 11/15\n",
      "15/15 [==============================] - 22s 1s/step - loss: 0.0635 - accuracy: 0.9933 - val_loss: 0.0445 - val_accuracy: 1.0000\n",
      "Epoch 12/15\n",
      "15/15 [==============================] - 24s 2s/step - loss: 0.0527 - accuracy: 0.9933 - val_loss: 0.0390 - val_accuracy: 1.0000\n",
      "Epoch 13/15\n",
      "15/15 [==============================] - 23s 2s/step - loss: 0.0521 - accuracy: 0.9967 - val_loss: 0.0338 - val_accuracy: 1.0000\n",
      "Epoch 14/15\n",
      "15/15 [==============================] - 22s 1s/step - loss: 0.0438 - accuracy: 0.9967 - val_loss: 0.0367 - val_accuracy: 1.0000\n",
      "Epoch 15/15\n",
      "15/15 [==============================] - 22s 1s/step - loss: 0.0476 - accuracy: 0.9967 - val_loss: 0.0279 - val_accuracy: 1.0000\n"
     ]
    }
   ],
   "source": [
    "# Set batchsize according to your system\n",
    "epochs = 15\n",
    "batchsize = 20\n",
    "\n",
    "# Start training\n",
    "history = model.fit(x=augment.flow(trainX, trainY, batch_size=batchsize), validation_data=(testX, testY), \n",
    "steps_per_epoch= len(trainX) // batchsize, epochs=epochs)\n",
    "\n",
    "# Use model.fit_generator function instead if TF version < 2.2\n",
    "#history = model.fit_generator(x = augment.flow(trainX, trainY, batch_size=batchsize), validation_data=(testX, testY), \n",
    "#steps_per_epoch= len(trainX) // batchsize, epochs=epochs)"
   ]
  },
  {
   "cell_type": "markdown",
   "metadata": {},
   "source": [
    "##  <font style=\"color:rgb(134,19,348)\"> Step 6: Check our Accuracy, Loss graphs & save the model.\n",
    " </font>"
   ]
  },
  {
   "cell_type": "code",
   "execution_count": 57,
   "metadata": {},
   "outputs": [
    {
     "data": {
      "image/png": "[encoded data removed]",
      "text/plain": [
       "<Figure size 432x288 with 1 Axes>"
      ]
     },
     "metadata": {
      "needs_background": "light"
     },
     "output_type": "display_data"
    },
    {
     "data": {
      "image/png": "[encoded data removed]",
      "text/plain": [
       "<Figure size 432x288 with 1 Axes>"
      ]
     },
     "metadata": {
      "needs_background": "light"
     },
     "output_type": "display_data"
    }
   ],
   "source": [
    "# Plot the accuracy and loss curves\n",
    "\n",
    "acc = history.history['accuracy']\n",
    "val_acc = history.history['val_accuracy']\n",
    "loss = history.history['loss']\n",
    "val_loss = history.history['val_loss']\n",
    "\n",
    "epochs = range(len(acc))\n",
    "\n",
    "plt.plot(epochs, acc, 'b', label='Training acc')\n",
    "plt.plot(epochs, val_acc, 'r', label='Validation acc')\n",
    "plt.title('Training accuracy')\n",
    "plt.legend()\n",
    "\n",
    "plt.figure()\n",
    "\n",
    "plt.plot(epochs, loss, 'b', label='Training loss')\n",
    "plt.plot(epochs, val_loss, 'r', label='Validation loss')\n",
    "plt.title('Training loss')\n",
    "plt.legend()\n",
    "\n",
    "plt.show()"
   ]
  },
  {
   "cell_type": "markdown",
   "metadata": {},
   "source": [
    "####  <font style=\"color:rgb(134,19,348)\"> Save the model </font>"
   ]
  },
  {
   "cell_type": "code",
   "execution_count": 58,
   "metadata": {},
   "outputs": [],
   "source": [
    "model.save(\"model.h5\", overwrite=True)"
   ]
  },
  {
   "cell_type": "markdown",
   "metadata": {},
   "source": [
    "####  <font style=\"color:rgb(134,19,348)\"> Load the model </font>"
   ]
  },
  {
   "cell_type": "code",
   "execution_count": 16,
   "metadata": {},
   "outputs": [],
   "source": [
    "model = load_model(\"model.h5\")"
   ]
  },
  {
   "cell_type": "markdown",
   "metadata": {},
   "source": [
    "##  <font style=\"color:rgb(134,19,348)\"> Step 7: Test on Live Webcam Feed:\n",
    " </font>"
   ]
  },
  {
   "cell_type": "code",
   "execution_count": 59,
   "metadata": {},
   "outputs": [],
   "source": [
    "# This list will be used to map probabilities to class names, Label names are in alphabatical order.\n",
    "label_names = ['nothing', 'paper', 'rock', 'scissor']\n",
    "\n",
    "cap = cv2.VideoCapture(0, cv2.CAP_DSHOW)\n",
    "box_size = 234\n",
    "width = int(cap.get(3))\n",
    "\n",
    "while True:\n",
    "    \n",
    "    ret, frame = cap.read()\n",
    "    if not ret:\n",
    "        break\n",
    "        \n",
    "    frame = cv2.flip(frame, 1)\n",
    "           \n",
    "    cv2.rectangle(frame, (width - box_size, 0), (width, box_size), (0, 250, 150), 2)\n",
    "        \n",
    "    cv2.namedWindow(\"Rock Paper Scissors\", cv2.WINDOW_NORMAL)\n",
    "\n",
    "    roi = frame[5: box_size-5 , width-box_size + 5: width -5]\n",
    "    \n",
    "    # Normalize the image like we did in the preprocessing step, also convert float64 array.\n",
    "    roi = np.array([roi]).astype('float64') / 255.0\n",
    " \n",
    "    # Get model's prediction.\n",
    "    pred = model.predict(roi)\n",
    "    \n",
    "    # Get the index of the target class.\n",
    "    target_index = np.argmax(pred[0])\n",
    "\n",
    "    # Get the probability of the target class\n",
    "    prob = np.max(pred[0])\n",
    "\n",
    "    # Show results\n",
    "    cv2.putText(frame, \"prediction: {} {:.2f}%\".format(label_names[np.argmax(pred[0])], prob*100 ),\n",
    "                (10, 40), cv2.FONT_HERSHEY_SIMPLEX, 0.90, (0, 0, 255), 2, cv2.LINE_AA)\n",
    "    \n",
    "    cv2.imshow(\"Rock Paper Scissors\", frame)\n",
    "    \n",
    "   \n",
    "    k = cv2.waitKey(1)\n",
    "    if k == ord('q'):\n",
    "        break\n",
    "\n",
    "cap.release()\n",
    "cv2.destroyAllWindows()"
   ]
  },
  {
   "cell_type": "markdown",
   "metadata": {},
   "source": [
    "##  <font style=\"color:rgb(134,19,348)\"> Step 8: Create the Final Application:\n",
    " </font>\n",
    " \n",
    "\n",
    " It’s time for the finale, we will now take our final model and build a full application out of it, for our final script we have 3 different helper functions"
   ]
  },
  {
   "cell_type": "markdown",
   "metadata": {},
   "source": [
    "###  <font style=\"color:rgb(134,19,348)\"> Function for finding the Winner </font>\n",
    "First we need a function that takes two moves, one by the user and one the computer and then finds out who won that round. This function is pretty simple as you can see below."
   ]
  },
  {
   "cell_type": "code",
   "execution_count": 21,
   "metadata": {},
   "outputs": [],
   "source": [
    "def findout_winner(user_move, Computer_move):\n",
    "    \n",
    "    # All logic below is self explanatory \n",
    "    \n",
    "    if user_move == Computer_move:\n",
    "        return \"Tie\"\n",
    "    \n",
    "    \n",
    "    elif user_move == \"rock\" and Computer_move == \"scissor\":\n",
    "        return \"User\"\n",
    "    \n",
    "    elif user_move == \"rock\" and Computer_move == \"paper\":\n",
    "        return \"Computer\"\n",
    "    \n",
    "    elif user_move == \"scissor\" and Computer_move == \"rock\":\n",
    "        return \"Computer\"\n",
    "    \n",
    "    elif user_move == \"scissor\" and Computer_move == \"paper\":\n",
    "        return \"User\"\n",
    "    \n",
    "    elif user_move == \"paper\" and Computer_move == \"rock\":\n",
    "        return \"User\"\n",
    "    \n",
    "    elif user_move == \"paper\" and Computer_move == \"scissor\":\n",
    "        return \"Computer\""
   ]
  },
  {
   "cell_type": "markdown",
   "metadata": {},
   "source": [
    "**Let’s test this function.**"
   ]
  },
  {
   "cell_type": "code",
   "execution_count": 22,
   "metadata": {},
   "outputs": [
    {
     "name": "stdout",
     "output_type": "stream",
     "text": [
      "User Selected 'paper' and computer selected 'paper' , winner is: 'Tie' \n"
     ]
    }
   ],
   "source": [
    "user_move = 'paper'\n",
    "computer_move = choice(['rock', 'paper', 'scissor'])\n",
    "\n",
    "winner = findout_winner(user_move, computer_move)\n",
    "\n",
    "print(\"User Selected '{}' and computer selected '{}' , winner is: '{}' \".format(user_move, computer_move, winner))"
   ]
  },
  {
   "cell_type": "markdown",
   "metadata": {},
   "source": [
    "**Let’s do another one.**"
   ]
  },
  {
   "cell_type": "code",
   "execution_count": 23,
   "metadata": {},
   "outputs": [
    {
     "name": "stdout",
     "output_type": "stream",
     "text": [
      "User Selected 'paper' and computer selected 'rock' , winner is: 'User' \n"
     ]
    }
   ],
   "source": [
    "user_move = 'paper'\n",
    "computer_move = choice(['rock', 'paper', 'scissor'])\n",
    "\n",
    "winner = findout_winner(user_move, computer_move)\n",
    "\n",
    "print(\"User Selected '{}' and computer selected '{}' , winner is: '{}' \".format(user_move, computer_move, winner))"
   ]
  },
  {
   "cell_type": "markdown",
   "metadata": {},
   "source": [
    "###  <font style=\"color:rgb(134,19,348)\"> Function for Showing the Winner for the Full Game </font>\n",
    "\n",
    "This function decides who's the winner based on the points and then shows an image with results, After the game is  over you can press 'ENTER' to play again or any other key to exit."
   ]
  },
  {
   "cell_type": "code",
   "execution_count": 51,
   "metadata": {},
   "outputs": [],
   "source": [
    "def show_winner(user_socre, computer_score):    \n",
    "    \n",
    "    if user_score > computer_score:\n",
    "        img = cv2.imread(\"images/youwin.jpg\")\n",
    "        \n",
    "    elif user_score < computer_score:\n",
    "        img = cv2.imread(\"images/comwins.jpg\")\n",
    "        \n",
    "    else:\n",
    "        img = cv2.imread(\"images/draw.jpg\")\n",
    "        \n",
    "    cv2.putText(img, \"Press 'ENTER' to play again, else exit\",\n",
    "                (150, 530), cv2.FONT_HERSHEY_COMPLEX, 1, (0, 0, 255), 3, cv2.LINE_AA)\n",
    "    \n",
    "    cv2.imshow(\"Rock Paper Scissors\", img)\n",
    "    \n",
    "    # If enter is pressed.\n",
    "    k = cv2.waitKey(0)\n",
    "    \n",
    "    # If the user presses 'ENTER' key then return TRUE, otherwise FALSE\n",
    "    if k == 13:\n",
    "       return True\n",
    "\n",
    "    else:\n",
    "        return False"
   ]
  },
  {
   "cell_type": "markdown",
   "metadata": {},
   "source": [
    "###  <font style=\"color:rgb(134,19,348)\"> Function for Displaying Computer's Move (Optional) </font>\n",
    "\n",
    "This function displays a picture of either 'rock', 'paper' or  'scissor' based on what the computer played. "
   ]
  },
  {
   "cell_type": "code",
   "execution_count": 48,
   "metadata": {},
   "outputs": [],
   "source": [
    "def display_computer_move(computer_move_name, frame):\n",
    "    \n",
    "    icon = cv2.imread( \"images/{}.png\".format(computer_move_name), 1)\n",
    "    icon = cv2.resize(icon, (224,224))\n",
    "    \n",
    "    # This is the portion which we are going to replace with the icon image\n",
    "    roi = frame[0:224, 0:224]\n",
    "\n",
    "    # Get binary mask from the transparent image, 4th channel is the alpha channel \n",
    "    mask = icon[:,:,-1] \n",
    "\n",
    "    # Making the mask completely binary (black & white)\n",
    "    mask = cv2.threshold(mask, 1, 255, cv2.THRESH_BINARY)[1]\n",
    "\n",
    "    # Store the normal bgr image\n",
    "    icon_bgr = icon[:,:,:3] \n",
    "    \n",
    "    # Now combine the foreground of the icon with background of ROI \n",
    "    \n",
    "    img1_bg = cv2.bitwise_and(roi, roi, mask = cv2.bitwise_not(mask))\n",
    "\n",
    "    img2_fg = cv2.bitwise_and(icon_bgr, icon_bgr, mask = mask)\n",
    "\n",
    "    combined = cv2.add(img1_bg, img2_fg)\n",
    "\n",
    "    frame[0:224, 0:224] = combined\n",
    "\n",
    "    return frame"
   ]
  },
  {
   "cell_type": "markdown",
   "metadata": {},
   "source": [
    "###  <font style=\"color:rgb(134,19,348)\"> Final Application </font>"
   ]
  },
  {
   "cell_type": "code",
   "execution_count": 53,
   "metadata": {},
   "outputs": [],
   "source": [
    "cap = cv2.VideoCapture(0)\n",
    "box_size = 234\n",
    "width = int(cap.get(3))\n",
    "\n",
    "# Specify the number of attempts you want. This means best of 5.\n",
    "attempts = 5\n",
    "\n",
    "# Initially the moves will be `nothing`\n",
    "computer_move_name= \"nothing\"\n",
    "final_user_move = \"nothing\"\n",
    "\n",
    "label_names = ['nothing', 'paper', 'rock', 'scissor']\n",
    "\n",
    "# All scores are 0 at the start.\n",
    "computer_score, user_score = 0, 0\n",
    "\n",
    "# The default color of bounding box is Blue\n",
    "rect_color = (255, 0, 0)\n",
    "\n",
    "# This variables remembers if the hand is inside the box or not.\n",
    "hand_inside = False\n",
    "\n",
    "# At each iteration we will decrease the total_attempts value by 1\n",
    "total_attempts = attempts\n",
    "\n",
    "# We will only consider predictions having confidence above this threshold.\n",
    "confidence_threshold = 0.70\n",
    "\n",
    "# Instead of working on a single prediciton, we will take the mode of 5 predictons by using a deque object\n",
    "# This way even if we face a false postive, we would easily ignore it\n",
    "smooth_factor = 5\n",
    "\n",
    "# Our initial deque list will have 'nothing' repeated 5 times.\n",
    "de = deque(['nothing'] * 5, maxlen=smooth_factor)\n",
    "\n",
    "while True:\n",
    "    \n",
    "    ret, frame = cap.read()\n",
    "    \n",
    "    if not ret:\n",
    "        break\n",
    "        \n",
    "    frame = cv2.flip(frame, 1)\n",
    "           \n",
    "    cv2.namedWindow(\"Rock Paper Scissors\", cv2.WINDOW_NORMAL)\n",
    "\n",
    "    # extract the region of image within the user rectangle\n",
    "    roi = frame[5: box_size-5 , width-box_size + 5: width -5]\n",
    "    \n",
    "    roi = np.array([roi]).astype('float64') / 255.0\n",
    "    \n",
    "    # Predict the move made\n",
    "    pred = model.predict(roi)\n",
    "    \n",
    "    # Get the index of the predicted class\n",
    "    move_code = np.argmax(pred[0])\n",
    "   \n",
    "    # Get the class name of the predicted class\n",
    "    user_move = label_names[move_code]\n",
    "    \n",
    "    # Get the confidence of the predicted class\n",
    "    prob = np.max(pred[0])\n",
    "    \n",
    "    # Make sure the probability is above our defined threshold\n",
    "    if prob >= confidence_threshold:\n",
    "        \n",
    "        # Now add the move to deque list from left\n",
    "        de.appendleft(user_move)\n",
    "        \n",
    "        # Get the mode i.e. which class has occured more frequently in the last 5 moves.\n",
    "        try:\n",
    "            final_user_move = st.mode(de)[0][0] \n",
    "            \n",
    "        except StatisticsError:\n",
    "            print('Stats error')\n",
    "            continue\n",
    "             \n",
    "        # If nothing is not true and hand_inside is False then proceed.\n",
    "        # Basically the hand_inside variable is helping us to not repeatedly predict during the loop\n",
    "        # So now the user has to take his hands out of the box for every new predicton.\n",
    "        \n",
    "        if final_user_move != \"nothing\" and hand_inside == False:\n",
    "            \n",
    "            # Set hand inside to True\n",
    "            hand_inside = True \n",
    "            \n",
    "            # Get Computer's move and then get the winner.\n",
    "            computer_move_name = choice(['rock', 'paper', 'scissor'])\n",
    "            winner = findout_winner(final_user_move, computer_move_name)\n",
    "            \n",
    "            # Display the computer's move\n",
    "            display_computer_move(computer_move_name, frame)\n",
    "            \n",
    "            # Subtract one attempt\n",
    "            total_attempts -= 1\n",
    "            \n",
    "            # If winner is computer then it gets points and vice versa.\n",
    "            # We're also changing the color of rectangle based on who wins the round.\n",
    "\n",
    "            if winner == \"Computer\":\n",
    "                computer_score +=1\n",
    "                rect_color = (0, 0, 255)\n",
    "\n",
    "            elif winner == \"User\":\n",
    "                user_score += 1;\n",
    "                rect_color = (0, 250, 0)\n",
    "                \n",
    "            \n",
    "            elif winner == \"Tie\":\n",
    "                rect_color = (255, 250, 255)\n",
    "                \n",
    "                \n",
    "            # If all the attempts are up then find our the winner      \n",
    "            if total_attempts == 0:\n",
    "                \n",
    "                play_again = show_winner(user_score, computer_score)\n",
    "                \n",
    "                # If the user pressed Enter then restart the game by re initializing all variables\n",
    "                if play_again:\n",
    "                    user_score, computer_score, total_attempts = 0, 0, attempts\n",
    "                \n",
    "                # Otherwise quit the program.\n",
    "                else:\n",
    "                    break\n",
    "        \n",
    "        # Display images when the hand is inside the box even when hand_inside variable is True.\n",
    "        elif final_user_move != \"nothing\" and hand_inside == True:\n",
    "            display_computer_move(computer_move_name, frame)\n",
    "    \n",
    "        # If class is nothing then hand_inside becomes False\n",
    "        elif final_user_move == 'nothing':            \n",
    "            hand_inside = False\n",
    "            rect_color = (255, 0, 0)\n",
    " \n",
    "\n",
    "    # This is where all annotation is happening. \n",
    "\n",
    "    cv2.putText(frame, \"Your Move: \" + final_user_move,\n",
    "                    (420, 270), cv2.FONT_HERSHEY_SIMPLEX, 0.6, (255, 255, 255), 1, cv2.LINE_AA)\n",
    "\n",
    "    cv2.putText(frame, \"Computer's Move: \" + computer_move_name,\n",
    "                (2, 270), cv2.FONT_HERSHEY_SIMPLEX, 0.6, (255, 255, 255), 1, cv2.LINE_AA)\n",
    "\n",
    "    cv2.putText(frame, \"Your Score: \" + str(user_score),\n",
    "                    (420, 300), cv2.FONT_HERSHEY_SIMPLEX, 0.6, (255, 255, 255), 1, cv2.LINE_AA)\n",
    "    cv2.putText(frame, \"Computer Score: \" + str(computer_score),\n",
    "                    (2, 300), cv2.FONT_HERSHEY_SIMPLEX, 0.6, (255, 255, 255), 1, cv2.LINE_AA)\n",
    "    \n",
    "    cv2.putText(frame, \"Attempts left: {}\".format(total_attempts), (190, 400), cv2.FONT_HERSHEY_COMPLEX, 0.7,\n",
    "                (100, 2, 255), 1, cv2.LINE_AA)\n",
    "    \n",
    "    \n",
    "    cv2.rectangle(frame, (width - box_size, 0), (width, box_size), rect_color, 2)\n",
    "\n",
    "    # Display the image    \n",
    "    cv2.imshow(\"Rock Paper Scissors\", frame)\n",
    "\n",
    "    # Exit if 'q' is pressed \n",
    "    k = cv2.waitKey(10)\n",
    "    if k == ord('q'):\n",
    "        break\n",
    "\n",
    "# Relase the camera and destroy all windows.\n",
    "cap.release()\n",
    "cv2.destroyAllWindows()"
   ]
  }
 ],
 "metadata": {
  "kernelspec": {
   "name": "python383jvsc74a57bd02db524e06e9f5f4ffedc911c917cb75e12dbc923643829bf417064a77eb14d37",
   "display_name": "Python 3.8.3 64-bit"
  },
  "language_info": {
   "codemirror_mode": {
    "name": "ipython",
    "version": 3
   },
   "file_extension": ".py",
   "mimetype": "text/x-python",
   "name": "python",
   "nbconvert_exporter": "python",
   "pygments_lexer": "ipython3",
   "version": "3.8.3"
  },
  "metadata": {
   "interpreter": {
    "hash": "2db524e06e9f5f4ffedc911c917cb75e12dbc923643829bf417064a77eb14d37"
   }
  }
 },
 "nbformat": 4,
 "nbformat_minor": 2
}